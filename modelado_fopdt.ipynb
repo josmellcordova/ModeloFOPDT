{
  "cells": [
    {
      "cell_type": "markdown",
      "metadata": {
        "id": "QcufYRXylA8B"
      },
      "source": [
        "# Obtén rápidamente y de manera sencilla el modelo de tu proceso"
      ]
    },
    {
      "cell_type": "markdown",
      "metadata": {
        "id": "waHpYSyqlA8f"
      },
      "source": [
        "## Modelo de Primer Orden Más Tiempo Muerto (FOPDT)"
      ]
    },
    {
      "cell_type": "markdown",
      "metadata": {
        "id": "9UGa4Fo9lA8i"
      },
      "source": [
        "Autor: MSc. Ing. Josmell Córdova Claros (correo: josmell.cordova@pucp.edu.pe)  \n",
        "(Basado en el código original desarrollado por *APMonitor*, url=https://apmonitor.com/pdc/index.php/Main/FirstOrderOptimization)"
      ]
    },
    {
      "cell_type": "markdown",
      "metadata": {
        "id": "tQMqGnDAlA8j"
      },
      "source": [
        "**Objetivo:** programa que permite obtener los parámetros de un modelo FOPDT:\n",
        "* Ganancia del proceso $(K)$\n",
        "* Constante de tiempo $(\\tau)$\n",
        "* Tiempo muerto ($\\theta$) "
      ]
    },
    {
      "cell_type": "markdown",
      "metadata": {
        "id": "Dvw6sdYplA8k"
      },
      "source": [
        "**Método:** a través de una *regresión no lineal* de la respuesta escalón utilizando un algoritmo de optimización que permite minimizar la suma de los errores al cuadrado."
      ]
    },
    {
      "cell_type": "markdown",
      "metadata": {
        "id": "DNTF-oHZlA8l"
      },
      "source": [
        "## Importar librerias importantes"
      ]
    },
    {
      "cell_type": "code",
      "execution_count": 1,
      "metadata": {
        "id": "zgcK-Uj6lA8m"
      },
      "outputs": [],
      "source": [
        "import numpy as np\n",
        "import matplotlib.pyplot as plt\n",
        "import pandas as pd\n",
        "# %matplotlib notebook\n",
        "from scipy.integrate import odeint\n",
        "from scipy.optimize import minimize\n",
        "from scipy.interpolate import interp1d"
      ]
    },
    {
      "cell_type": "markdown",
      "metadata": {
        "id": "UO-6YtkWlA8q"
      },
      "source": [
        "## Cargar los datos de la prueba escalón o curva de reacción"
      ]
    },
    {
      "cell_type": "markdown",
      "metadata": {
        "id": "aMXftXnvlA8q"
      },
      "source": [
        "* Formato del archivo: *.csv  \n",
        "* Columna 1 = t = tiempo (t) [min] (Nota: deben estar espaciados en intervalos *constantes* de tiempo)  \n",
        "* Columna 2 = u = salida del controlador (OP) [%]  \n",
        "* Columna 3 = yp = variable de proceso o variable controlada (PV) [% escala]  "
      ]
    },
    {
      "cell_type": "code",
      "execution_count": 2,
      "metadata": {
        "id": "lJkPw5fllA8s"
      },
      "outputs": [],
      "source": [
        "#data = pd.read_csv('tanque_escalon_prueba.CSV',delimiter=',') # cargamos el archivo csv\n",
        "#data = pd.read_csv('tanque_prueba_escalon.csv',delimiter=',') # cargamos el archivo csv\n",
        "url = 'https://raw.githubusercontent.com/josmellcordova/ModeloFOPDT/main/tanque_prueba_escalon.csv'\n",
        "#columnas = ['t', 'OP', 'PV']\n",
        "data = pd.read_csv(url)\n",
        "\n",
        "t = data['t'].to_numpy()\n",
        "u = data['OP'].to_numpy()\n",
        "yp = data['PV'].to_numpy()\n",
        "u0 = u[0]\n",
        "yp0 = yp[0]"
      ]
    },
    {
      "cell_type": "markdown",
      "metadata": {
        "id": "Y5lnB0tYlA8v"
      },
      "source": [
        "## Graficar la respuesta escalón o curva de reacción"
      ]
    },
    {
      "cell_type": "code",
      "execution_count": 3,
      "metadata": {
        "colab": {
          "base_uri": "https://localhost:8080/",
          "height": 514
        },
        "id": "A0TA6e7NlA8w",
        "outputId": "66ab8c8a-9b31-4296-9749-4e1dbad343d5"
      },
      "outputs": [
        {
          "output_type": "display_data",
          "data": {
            "text/plain": [
              "<Figure size 720x576 with 2 Axes>"
            ],
            "image/png": "[encoded data removed]"
          },
          "metadata": {
            "needs_background": "light"
          }
        }
      ],
      "source": [
        "plt.figure(figsize=(10,8))\n",
        "plt.subplot(2,1,1)\n",
        "plt.plot(t,yp, color=\"C0\", linewidth=3)\n",
        "plt.title('Respuesta escalón', fontsize=14)\n",
        "plt.ylabel('PV [%]')\n",
        "plt.subplot(2,1,2)\n",
        "plt.plot(t,u, color=\"C7\", linewidth=3)\n",
        "plt.ylabel('OP [%]')\n",
        "plt.xlabel('t [min]')\n",
        "plt.savefig(\"prueba_escalon.png\")\n",
        "plt.show()"
      ]
    },
    {
      "cell_type": "markdown",
      "metadata": {
        "id": "jLlzbXgvlA8z"
      },
      "source": [
        "## Explorar los datos"
      ]
    },
    {
      "cell_type": "markdown",
      "metadata": {
        "id": "pktKlw18lA80"
      },
      "source": [
        "Mostrar los primeros 10 datos "
      ]
    },
    {
      "cell_type": "code",
      "execution_count": 4,
      "metadata": {
        "colab": {
          "base_uri": "https://localhost:8080/",
          "height": 363
        },
        "id": "e6faoTh3lA81",
        "outputId": "e28be557-207b-4ea7-987d-41e21d5c8a42"
      },
      "outputs": [
        {
          "output_type": "execute_result",
          "data": {
            "text/plain": [
              "     t  OP      PV\n",
              "0  0.0  65  53.992\n",
              "1  0.1  65  53.992\n",
              "2  0.2  65  53.992\n",
              "3  0.3  65  53.992\n",
              "4  0.4  65  53.992\n",
              "5  0.5  65  53.992\n",
              "6  0.6  65  53.992\n",
              "7  0.7  65  53.992\n",
              "8  0.8  65  53.992\n",
              "9  0.9  65  53.992"
            ],
            "text/html": [
              "\n",
              "  <div id=\"df-7d481903-6366-4dab-97cf-6b8879b3fc8d\">\n",
              "    <div class=\"colab-df-container\">\n",
              "      <div>\n",
              "<style scoped>\n",
              "    .dataframe tbody tr th:only-of-type {\n",
              "        vertical-align: middle;\n",
              "    }\n",
              "\n",
              "    .dataframe tbody tr th {\n",
              "        vertical-align: top;\n",
              "    }\n",
              "\n",
              "    .dataframe thead th {\n",
              "        text-align: right;\n",
              "    }\n",
              "</style>\n",
              "<table border=\"1\" class=\"dataframe\">\n",
              "  <thead>\n",
              "    <tr style=\"text-align: right;\">\n",
              "      <th></th>\n",
              "      <th>t</th>\n",
              "      <th>OP</th>\n",
              "      <th>PV</th>\n",
              "    </tr>\n",
              "  </thead>\n",
              "  <tbody>\n",
              "    <tr>\n",
              "      <th>0</th>\n",
              "      <td>0.0</td>\n",
              "      <td>65</td>\n",
              "      <td>53.992</td>\n",
              "    </tr>\n",
              "    <tr>\n",
              "      <th>1</th>\n",
              "      <td>0.1</td>\n",
              "      <td>65</td>\n",
              "      <td>53.992</td>\n",
              "    </tr>\n",
              "    <tr>\n",
              "      <th>2</th>\n",
              "      <td>0.2</td>\n",
              "      <td>65</td>\n",
              "      <td>53.992</td>\n",
              "    </tr>\n",
              "    <tr>\n",
              "      <th>3</th>\n",
              "      <td>0.3</td>\n",
              "      <td>65</td>\n",
              "      <td>53.992</td>\n",
              "    </tr>\n",
              "    <tr>\n",
              "      <th>4</th>\n",
              "      <td>0.4</td>\n",
              "      <td>65</td>\n",
              "      <td>53.992</td>\n",
              "    </tr>\n",
              "    <tr>\n",
              "      <th>5</th>\n",
              "      <td>0.5</td>\n",
              "      <td>65</td>\n",
              "      <td>53.992</td>\n",
              "    </tr>\n",
              "    <tr>\n",
              "      <th>6</th>\n",
              "      <td>0.6</td>\n",
              "      <td>65</td>\n",
              "      <td>53.992</td>\n",
              "    </tr>\n",
              "    <tr>\n",
              "      <th>7</th>\n",
              "      <td>0.7</td>\n",
              "      <td>65</td>\n",
              "      <td>53.992</td>\n",
              "    </tr>\n",
              "    <tr>\n",
              "      <th>8</th>\n",
              "      <td>0.8</td>\n",
              "      <td>65</td>\n",
              "      <td>53.992</td>\n",
              "    </tr>\n",
              "    <tr>\n",
              "      <th>9</th>\n",
              "      <td>0.9</td>\n",
              "      <td>65</td>\n",
              "      <td>53.992</td>\n",
              "    </tr>\n",
              "  </tbody>\n",
              "</table>\n",
              "</div>\n",
              "      <button class=\"colab-df-convert\" onclick=\"convertToInteractive('df-7d481903-6366-4dab-97cf-6b8879b3fc8d')\"\n",
              "              title=\"Convert this dataframe to an interactive table.\"\n",
              "              style=\"display:none;\">\n",
              "        \n",
              "  <svg xmlns=\"http://www.w3.org/2000/svg\" height=\"24px\"viewBox=\"0 0 24 24\"\n",
              "       width=\"24px\">\n",
              "    <path d=\"M0 0h24v24H0V0z\" fill=\"none\"/>\n",
              "    <path d=\"M18.56 5.44l.94 2.06.94-2.06 2.06-.94-2.06-.94-.94-2.06-.94 2.06-2.06.94zm-11 1L8.5 8.5l.94-2.06 2.06-.94-2.06-.94L8.5 2.5l-.94 2.06-2.06.94zm10 10l.94 2.06.94-2.06 2.06-.94-2.06-.94-.94-2.06-.94 2.06-2.06.94z\"/><path d=\"M17.41 7.96l-1.37-1.37c-.4-.4-.92-.59-1.43-.59-.52 0-1.04.2-1.43.59L10.3 9.45l-7.72 7.72c-.78.78-.78 2.05 0 2.83L4 21.41c.39.39.9.59 1.41.59.51 0 1.02-.2 1.41-.59l7.78-7.78 2.81-2.81c.8-.78.8-2.07 0-2.86zM5.41 20L4 18.59l7.72-7.72 1.47 1.35L5.41 20z\"/>\n",
              "  </svg>\n",
              "      </button>\n",
              "      \n",
              "  <style>\n",
              "    .colab-df-container {\n",
              "      display:flex;\n",
              "      flex-wrap:wrap;\n",
              "      gap: 12px;\n",
              "    }\n",
              "\n",
              "    .colab-df-convert {\n",
              "      background-color: #E8F0FE;\n",
              "      border: none;\n",
              "      border-radius: 50%;\n",
              "      cursor: pointer;\n",
              "      display: none;\n",
              "      fill: #1967D2;\n",
              "      height: 32px;\n",
              "      padding: 0 0 0 0;\n",
              "      width: 32px;\n",
              "    }\n",
              "\n",
              "    .colab-df-convert:hover {\n",
              "      background-color: #E2EBFA;\n",
              "      box-shadow: 0px 1px 2px rgba(60, 64, 67, 0.3), 0px 1px 3px 1px rgba(60, 64, 67, 0.15);\n",
              "      fill: #174EA6;\n",
              "    }\n",
              "\n",
              "    [theme=dark] .colab-df-convert {\n",
              "      background-color: #3B4455;\n",
              "      fill: #D2E3FC;\n",
              "    }\n",
              "\n",
              "    [theme=dark] .colab-df-convert:hover {\n",
              "      background-color: #434B5C;\n",
              "      box-shadow: 0px 1px 3px 1px rgba(0, 0, 0, 0.15);\n",
              "      filter: drop-shadow(0px 1px 2px rgba(0, 0, 0, 0.3));\n",
              "      fill: #FFFFFF;\n",
              "    }\n",
              "  </style>\n",
              "\n",
              "      <script>\n",
              "        const buttonEl =\n",
              "          document.querySelector('#df-7d481903-6366-4dab-97cf-6b8879b3fc8d button.colab-df-convert');\n",
              "        buttonEl.style.display =\n",
              "          google.colab.kernel.accessAllowed ? 'block' : 'none';\n",
              "\n",
              "        async function convertToInteractive(key) {\n",
              "          const element = document.querySelector('#df-7d481903-6366-4dab-97cf-6b8879b3fc8d');\n",
              "          const dataTable =\n",
              "            await google.colab.kernel.invokeFunction('convertToInteractive',\n",
              "                                                     [key], {});\n",
              "          if (!dataTable) return;\n",
              "\n",
              "          const docLinkHtml = 'Like what you see? Visit the ' +\n",
              "            '<a target=\"_blank\" href=https://colab.research.google.com/notebooks/data_table.ipynb>data table notebook</a>'\n",
              "            + ' to learn more about interactive tables.';\n",
              "          element.innerHTML = '';\n",
              "          dataTable['output_type'] = 'display_data';\n",
              "          await google.colab.output.renderOutput(dataTable, element);\n",
              "          const docLink = document.createElement('div');\n",
              "          docLink.innerHTML = docLinkHtml;\n",
              "          element.appendChild(docLink);\n",
              "        }\n",
              "      </script>\n",
              "    </div>\n",
              "  </div>\n",
              "  "
            ]
          },
          "metadata": {},
          "execution_count": 4
        }
      ],
      "source": [
        "data.head(10) "
      ]
    },
    {
      "cell_type": "markdown",
      "metadata": {
        "id": "A4xvhoaxlA82"
      },
      "source": [
        "Generar una estadística descriptiva para los datos"
      ]
    },
    {
      "cell_type": "code",
      "execution_count": 5,
      "metadata": {
        "colab": {
          "base_uri": "https://localhost:8080/",
          "height": 300
        },
        "id": "LLnzZ_MelA83",
        "outputId": "06621e53-cb4e-481e-e0b7-afd6388e1637"
      },
      "outputs": [
        {
          "output_type": "execute_result",
          "data": {
            "text/plain": [
              "               t          OP          PV\n",
              "count  170.00000  170.000000  170.000000\n",
              "mean     8.45000   78.235294   57.155259\n",
              "std      4.92189    4.847123    1.933589\n",
              "min      0.00000   65.000000   53.991000\n",
              "25%      4.22500   80.000000   55.203750\n",
              "50%      8.45000   80.000000   58.211000\n",
              "75%     12.67500   80.000000   58.790750\n",
              "max     16.90000   80.000000   58.883000"
            ],
            "text/html": [
              "\n",
              "  <div id=\"df-e50a026f-04b0-4d19-af3d-c741f9a85556\">\n",
              "    <div class=\"colab-df-container\">\n",
              "      <div>\n",
              "<style scoped>\n",
              "    .dataframe tbody tr th:only-of-type {\n",
              "        vertical-align: middle;\n",
              "    }\n",
              "\n",
              "    .dataframe tbody tr th {\n",
              "        vertical-align: top;\n",
              "    }\n",
              "\n",
              "    .dataframe thead th {\n",
              "        text-align: right;\n",
              "    }\n",
              "</style>\n",
              "<table border=\"1\" class=\"dataframe\">\n",
              "  <thead>\n",
              "    <tr style=\"text-align: right;\">\n",
              "      <th></th>\n",
              "      <th>t</th>\n",
              "      <th>OP</th>\n",
              "      <th>PV</th>\n",
              "    </tr>\n",
              "  </thead>\n",
              "  <tbody>\n",
              "    <tr>\n",
              "      <th>count</th>\n",
              "      <td>170.00000</td>\n",
              "      <td>170.000000</td>\n",
              "      <td>170.000000</td>\n",
              "    </tr>\n",
              "    <tr>\n",
              "      <th>mean</th>\n",
              "      <td>8.45000</td>\n",
              "      <td>78.235294</td>\n",
              "      <td>57.155259</td>\n",
              "    </tr>\n",
              "    <tr>\n",
              "      <th>std</th>\n",
              "      <td>4.92189</td>\n",
              "      <td>4.847123</td>\n",
              "      <td>1.933589</td>\n",
              "    </tr>\n",
              "    <tr>\n",
              "      <th>min</th>\n",
              "      <td>0.00000</td>\n",
              "      <td>65.000000</td>\n",
              "      <td>53.991000</td>\n",
              "    </tr>\n",
              "    <tr>\n",
              "      <th>25%</th>\n",
              "      <td>4.22500</td>\n",
              "      <td>80.000000</td>\n",
              "      <td>55.203750</td>\n",
              "    </tr>\n",
              "    <tr>\n",
              "      <th>50%</th>\n",
              "      <td>8.45000</td>\n",
              "      <td>80.000000</td>\n",
              "      <td>58.211000</td>\n",
              "    </tr>\n",
              "    <tr>\n",
              "      <th>75%</th>\n",
              "      <td>12.67500</td>\n",
              "      <td>80.000000</td>\n",
              "      <td>58.790750</td>\n",
              "    </tr>\n",
              "    <tr>\n",
              "      <th>max</th>\n",
              "      <td>16.90000</td>\n",
              "      <td>80.000000</td>\n",
              "      <td>58.883000</td>\n",
              "    </tr>\n",
              "  </tbody>\n",
              "</table>\n",
              "</div>\n",
              "      <button class=\"colab-df-convert\" onclick=\"convertToInteractive('df-e50a026f-04b0-4d19-af3d-c741f9a85556')\"\n",
              "              title=\"Convert this dataframe to an interactive table.\"\n",
              "              style=\"display:none;\">\n",
              "        \n",
              "  <svg xmlns=\"http://www.w3.org/2000/svg\" height=\"24px\"viewBox=\"0 0 24 24\"\n",
              "       width=\"24px\">\n",
              "    <path d=\"M0 0h24v24H0V0z\" fill=\"none\"/>\n",
              "    <path d=\"M18.56 5.44l.94 2.06.94-2.06 2.06-.94-2.06-.94-.94-2.06-.94 2.06-2.06.94zm-11 1L8.5 8.5l.94-2.06 2.06-.94-2.06-.94L8.5 2.5l-.94 2.06-2.06.94zm10 10l.94 2.06.94-2.06 2.06-.94-2.06-.94-.94-2.06-.94 2.06-2.06.94z\"/><path d=\"M17.41 7.96l-1.37-1.37c-.4-.4-.92-.59-1.43-.59-.52 0-1.04.2-1.43.59L10.3 9.45l-7.72 7.72c-.78.78-.78 2.05 0 2.83L4 21.41c.39.39.9.59 1.41.59.51 0 1.02-.2 1.41-.59l7.78-7.78 2.81-2.81c.8-.78.8-2.07 0-2.86zM5.41 20L4 18.59l7.72-7.72 1.47 1.35L5.41 20z\"/>\n",
              "  </svg>\n",
              "      </button>\n",
              "      \n",
              "  <style>\n",
              "    .colab-df-container {\n",
              "      display:flex;\n",
              "      flex-wrap:wrap;\n",
              "      gap: 12px;\n",
              "    }\n",
              "\n",
              "    .colab-df-convert {\n",
              "      background-color: #E8F0FE;\n",
              "      border: none;\n",
              "      border-radius: 50%;\n",
              "      cursor: pointer;\n",
              "      display: none;\n",
              "      fill: #1967D2;\n",
              "      height: 32px;\n",
              "      padding: 0 0 0 0;\n",
              "      width: 32px;\n",
              "    }\n",
              "\n",
              "    .colab-df-convert:hover {\n",
              "      background-color: #E2EBFA;\n",
              "      box-shadow: 0px 1px 2px rgba(60, 64, 67, 0.3), 0px 1px 3px 1px rgba(60, 64, 67, 0.15);\n",
              "      fill: #174EA6;\n",
              "    }\n",
              "\n",
              "    [theme=dark] .colab-df-convert {\n",
              "      background-color: #3B4455;\n",
              "      fill: #D2E3FC;\n",
              "    }\n",
              "\n",
              "    [theme=dark] .colab-df-convert:hover {\n",
              "      background-color: #434B5C;\n",
              "      box-shadow: 0px 1px 3px 1px rgba(0, 0, 0, 0.15);\n",
              "      filter: drop-shadow(0px 1px 2px rgba(0, 0, 0, 0.3));\n",
              "      fill: #FFFFFF;\n",
              "    }\n",
              "  </style>\n",
              "\n",
              "      <script>\n",
              "        const buttonEl =\n",
              "          document.querySelector('#df-e50a026f-04b0-4d19-af3d-c741f9a85556 button.colab-df-convert');\n",
              "        buttonEl.style.display =\n",
              "          google.colab.kernel.accessAllowed ? 'block' : 'none';\n",
              "\n",
              "        async function convertToInteractive(key) {\n",
              "          const element = document.querySelector('#df-e50a026f-04b0-4d19-af3d-c741f9a85556');\n",
              "          const dataTable =\n",
              "            await google.colab.kernel.invokeFunction('convertToInteractive',\n",
              "                                                     [key], {});\n",
              "          if (!dataTable) return;\n",
              "\n",
              "          const docLinkHtml = 'Like what you see? Visit the ' +\n",
              "            '<a target=\"_blank\" href=https://colab.research.google.com/notebooks/data_table.ipynb>data table notebook</a>'\n",
              "            + ' to learn more about interactive tables.';\n",
              "          element.innerHTML = '';\n",
              "          dataTable['output_type'] = 'display_data';\n",
              "          await google.colab.output.renderOutput(dataTable, element);\n",
              "          const docLink = document.createElement('div');\n",
              "          docLink.innerHTML = docLinkHtml;\n",
              "          element.appendChild(docLink);\n",
              "        }\n",
              "      </script>\n",
              "    </div>\n",
              "  </div>\n",
              "  "
            ]
          },
          "metadata": {},
          "execution_count": 5
        }
      ],
      "source": [
        "data.describe() "
      ]
    },
    {
      "cell_type": "code",
      "execution_count": 6,
      "metadata": {
        "colab": {
          "base_uri": "https://localhost:8080/"
        },
        "id": "_f2rnlNLlA84",
        "outputId": "d83210b9-0253-4961-c0d0-aa736f8bc66f"
      },
      "outputs": [
        {
          "output_type": "stream",
          "name": "stdout",
          "text": [
            "<class 'pandas.core.frame.DataFrame'>\n",
            "RangeIndex: 170 entries, 0 to 169\n",
            "Data columns (total 3 columns):\n",
            " #   Column  Non-Null Count  Dtype  \n",
            "---  ------  --------------  -----  \n",
            " 0   t       170 non-null    float64\n",
            " 1   OP      170 non-null    int64  \n",
            " 2   PV      170 non-null    float64\n",
            "dtypes: float64(2), int64(1)\n",
            "memory usage: 4.1 KB\n"
          ]
        }
      ],
      "source": [
        "data.info() # muestra el número de columnas y el tipo de dato"
      ]
    },
    {
      "cell_type": "code",
      "execution_count": 7,
      "metadata": {
        "colab": {
          "base_uri": "https://localhost:8080/"
        },
        "id": "HPqGrjiAlA85",
        "outputId": "1ee67c9a-ab76-4174-b518-c0ce0e05b51e"
      },
      "outputs": [
        {
          "output_type": "execute_result",
          "data": {
            "text/plain": [
              "(170, 3)"
            ]
          },
          "metadata": {},
          "execution_count": 7
        }
      ],
      "source": [
        "data.shape # muestra el número de filas y columnas"
      ]
    },
    {
      "cell_type": "markdown",
      "metadata": {
        "id": "xsnChveHlA87"
      },
      "source": [
        "## Programa para optimizar los parámetros del modelo FOPDT"
      ]
    },
    {
      "cell_type": "code",
      "execution_count": 8,
      "metadata": {
        "id": "ccqNtDo2lA89"
      },
      "outputs": [],
      "source": [
        "# Obtener el número de pasos de tiempo \n",
        "ns = len(t)\n",
        "# Tiempo de muestreo\n",
        "delta_t = t[1]-t[0]\n",
        "# Creamos una interpolación lineal de \"u\" vs \"t\"\n",
        "uf = interp1d(t,u)"
      ]
    },
    {
      "cell_type": "code",
      "execution_count": 9,
      "metadata": {
        "id": "BuDxsQaqlA8_"
      },
      "outputs": [],
      "source": [
        "# Definir una función para el modelo FOPDT   \n",
        "def fopdt(y,t,uf,Km,taum,thetam):\n",
        "    # argumentos de la función\n",
        "    #  y      = salida\n",
        "    #  t      = tiempo\n",
        "    #  uf     = función lineal de entrada (para desplazamiento en el tiempo)\n",
        "    #  Km     = ganancia del modelo\n",
        "    #  taum   = constante de tiempo del modelo\n",
        "    #  thetam = tiempo muerto del modelo\n",
        "    try:\n",
        "        if (t-thetam) <= 0:\n",
        "            um = uf(0.0)\n",
        "        else:\n",
        "            um = uf(t-thetam)\n",
        "    except:\n",
        "        #print('Error con la extrapolación: ' + str(t))\n",
        "        um = u0\n",
        "    # Calcular la derivada\n",
        "    dydt = (-(y-yp0) + Km * (um-u0))/taum\n",
        "    return dydt\n"
      ]
    },
    {
      "cell_type": "code",
      "execution_count": 10,
      "metadata": {
        "id": "3OlHNdPqlA9C"
      },
      "outputs": [],
      "source": [
        "# Simular el modelo FOPDT con x=[Km,taum,thetam]\n",
        "def sim_model(x):\n",
        "    # Argumentos de entrada\n",
        "    Km = x[0]\n",
        "    taum = x[1]\n",
        "    thetam = x[2]\n",
        "    # Almacenamiento para los valores del modelo\n",
        "    ym = np.zeros(ns)  # modelo\n",
        "    # Condición inicial\n",
        "    ym[0] = yp0\n",
        "    # Bucle a través de los pasos de tiempo   \n",
        "    for i in range(0,ns-1):\n",
        "        ts = [delta_t*i,  delta_t*(i+1)] # (Nota: debe estar espaciados en intervalos constantes de tiempo)\n",
        "        y1 = odeint(fopdt,ym[i],ts,args=(uf,Km,taum,thetam))\n",
        "        ym[i+1] = y1[-1]\n",
        "    return ym\n"
      ]
    },
    {
      "cell_type": "code",
      "execution_count": 11,
      "metadata": {
        "id": "7xZX6Fo6lA9F"
      },
      "outputs": [],
      "source": [
        "# Definir el objetivo (suma de errores al cuadrado o SCE)\n",
        "def objective(x):\n",
        "    # Modelo simulado\n",
        "    ym = sim_model(x)\n",
        "    # Calcular el objetivo\n",
        "    obj = 0.0\n",
        "    for i in range(len(ym)):\n",
        "        obj = obj + (ym[i]-yp[i])**2    # error al cuadrado\n",
        "    # return result\n",
        "    return obj"
      ]
    },
    {
      "cell_type": "code",
      "execution_count": 12,
      "metadata": {
        "id": "_ug84-VGlA9I"
      },
      "outputs": [],
      "source": [
        "# Valores iniciales para los parametros del modelo FOPDT\n",
        "x0 = np.zeros(3)\n",
        "x0[0] = 0.3 # Km\n",
        "x0[1] = 1.5 # taum\n",
        "x0[2] = 0.5 # thetam"
      ]
    },
    {
      "cell_type": "code",
      "execution_count": 13,
      "metadata": {
        "colab": {
          "base_uri": "https://localhost:8080/"
        },
        "id": "PFA5eHwSlA9J",
        "outputId": "a5cb9e80-8633-4ab0-9c6d-d3617420e7bd"
      },
      "outputs": [
        {
          "output_type": "stream",
          "name": "stdout",
          "text": [
            "SSE inicial: 103.76394619879378\n"
          ]
        }
      ],
      "source": [
        "# Mostrar el valor objetivo (SCE) inicial\n",
        "print('SSE inicial: ' + str(objective(x0)))"
      ]
    },
    {
      "cell_type": "code",
      "execution_count": 14,
      "metadata": {
        "id": "pyzBmuISlA9L"
      },
      "outputs": [],
      "source": [
        "# Optimizar los parámetros del modelo FOPDT (Km, taum, thetam)\n",
        "# Límites para los parámetros del modelo FOPDT\n",
        "bnds = ((-1.0e3, 1.0e3), (0.001, 1.0e3), (0.0, 1.0e3))\n",
        "solution = minimize(objective,x0,method='SLSQP',bounds=bnds)\n",
        "x = solution.x"
      ]
    },
    {
      "cell_type": "code",
      "execution_count": 15,
      "metadata": {
        "colab": {
          "base_uri": "https://localhost:8080/"
        },
        "id": "rORmEx-2lA9M",
        "outputId": "5bb20fba-9294-443c-87b8-66fa32879a62"
      },
      "outputs": [
        {
          "output_type": "stream",
          "name": "stdout",
          "text": [
            "SCE Final: 0.5576666459049184\n"
          ]
        }
      ],
      "source": [
        "# Mostrar el valor objetivo (SCE) final (optimizado)\n",
        "print('SCE Final: ' + str(objective(x))) # (Nota: este comando puede demorarse un cierto tiempo)"
      ]
    },
    {
      "cell_type": "code",
      "execution_count": 16,
      "metadata": {
        "colab": {
          "base_uri": "https://localhost:8080/"
        },
        "id": "sIC8ULkjlA9N",
        "outputId": "b41dbcb4-f13c-48bd-d2e2-16998926db63"
      },
      "outputs": [
        {
          "output_type": "stream",
          "name": "stdout",
          "text": [
            "Parámetros del modelo FOPDT optimizados:\n",
            "Kp: 0.3318019389737889\n",
            "taup: 2.789419084834055\n",
            "thetap: 1.4432214312089917\n"
          ]
        }
      ],
      "source": [
        "# Mostrar los parámetros del modelo FOPDT optimizados\n",
        "print('Parámetros del modelo FOPDT optimizados:')\n",
        "print('Kp: ' + str(x[0]))\n",
        "print('taup: ' + str(x[1]))\n",
        "print('thetap: ' + str(x[2]))"
      ]
    },
    {
      "cell_type": "markdown",
      "metadata": {
        "id": "4S0xPwlqlA9P"
      },
      "source": [
        "## Comparación de los datos reales y el modelo FOPDT"
      ]
    },
    {
      "cell_type": "code",
      "execution_count": 17,
      "metadata": {
        "colab": {
          "base_uri": "https://localhost:8080/",
          "height": 514
        },
        "id": "GorUsK2_lA9R",
        "outputId": "422ea08c-756f-427e-e5c6-7f7b11309c17"
      },
      "outputs": [
        {
          "output_type": "display_data",
          "data": {
            "text/plain": [
              "<Figure size 720x576 with 1 Axes>"
            ],
            "image/png": "[encoded data removed]"
          },
          "metadata": {
            "needs_background": "light"
          }
        }
      ],
      "source": [
        "# Modelo calculado a partir de los parámetros optimizados\n",
        "ym2 = sim_model(x)\n",
        "# Graficar los resultados\n",
        "plt.figure(figsize=(10,8))\n",
        "plt.plot(t, yp, label='Datos reales', color=\"C0\", linewidth=3)\n",
        "plt.plot(t, ym2, label='Modelo FOPDT', color=\"C1\", linewidth=3)\n",
        "plt.ylabel('PV [%]')\n",
        "plt.legend(loc='best')\n",
        "plt.xlabel('t [min]')\n",
        "plt.title('Respuesta escalón', fontsize=14)\n",
        "plt.savefig(\"escalon_modelo.png\",dpi=400)\n",
        "plt.show()"
      ]
    },
    {
      "cell_type": "markdown",
      "metadata": {
        "id": "6EvKnvWDlA9T"
      },
      "source": [
        "## Coeficiente de determinación (R2)"
      ]
    },
    {
      "cell_type": "markdown",
      "metadata": {
        "id": "2pOjTYJWlA9U"
      },
      "source": [
        "Mide el grado de ajuste entre los datos reales y el modelo."
      ]
    },
    {
      "cell_type": "code",
      "execution_count": 18,
      "metadata": {
        "colab": {
          "base_uri": "https://localhost:8080/"
        },
        "id": "lcIGM5_HlA9U",
        "outputId": "87035dfc-ad6b-40bc-959d-dd4c468953b8"
      },
      "outputs": [
        {
          "output_type": "stream",
          "name": "stdout",
          "text": [
            "R2:  0.9991174085439548\n"
          ]
        }
      ],
      "source": [
        "from sklearn.metrics import r2_score \n",
        "r2 = r2_score(yp, ym2) \n",
        "print('R2: ', r2)\n"
      ]
    }
  ],
  "metadata": {
    "kernelspec": {
      "display_name": "Python 3",
      "language": "python",
      "name": "python3"
    },
    "language_info": {
      "codemirror_mode": {
        "name": "ipython",
        "version": 3
      },
      "file_extension": ".py",
      "mimetype": "text/x-python",
      "name": "python",
      "nbconvert_exporter": "python",
      "pygments_lexer": "ipython3",
      "version": "3.8.3"
    },
    "colab": {
      "provenance": []
    }
  },
  "nbformat": 4,
  "nbformat_minor": 0
}